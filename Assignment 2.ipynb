{
 "cells": [
  {
   "cell_type": "code",
   "execution_count": 11,
   "id": "3c97eb61",
   "metadata": {
    "scrolled": true
   },
   "outputs": [
    {
     "name": "stdout",
     "output_type": "stream",
     "text": [
      "Enter the number of rows: 5\n",
      "* \n",
      "* * \n",
      "* * * \n",
      "* * * * \n",
      "* * * * * \n",
      "* * * * \n",
      "* * * \n",
      "* * \n",
      "* \n",
      "\n"
     ]
    }
   ],
   "source": [
    " #1. Use a python code to display the following star pattern using the for loop\n",
    "def pattern(rows):\n",
    "   # print upper triangle\n",
    "   for i in range(rows):\n",
    "        for j in range(i+1):\n",
    "         # printing stars\n",
    "            print(\"* \",end=\"\")\n",
    "        print(\"\\r\")\n",
    "   # print lower triangle\n",
    "   for i in range(rows):\n",
    "        for j in range(rows-i-1):\n",
    "         # printing stars\n",
    "            print(\"* \",end=\"\")\n",
    "        print(\"\\r\") \n",
    "# take inputs\n",
    "rows = int(input('Enter the number of rows: '))\n",
    "\n",
    "# calling function\n",
    "pattern(rows)"
   ]
  },
  {
   "cell_type": "code",
   "execution_count": 23,
   "id": "177e36f4",
   "metadata": {},
   "outputs": [
    {
     "name": "stdout",
     "output_type": "stream",
     "text": [
      "20 40 60 80 100 "
     ]
    }
   ],
   "source": [
    "#2 Use looping to output the elements from a provided list present at odd indexes.\n",
    "\n",
    "my_list = [10, 20, 30, 40, 50, 60, 70, 80, 90, 100]\n",
    "for i in range(len(my_list)):\n",
    "    if i%2!=0 :\n",
    "        print(my_list[i],end = \" \")\n",
    "    \n",
    "\n",
    "    \n",
    "    \n"
   ]
  },
  {
   "cell_type": "code",
   "execution_count": 37,
   "id": "98d79f9a",
   "metadata": {},
   "outputs": [
    {
     "name": "stdout",
     "output_type": "stream",
     "text": [
      "[23, 'Python', 23.98]\n",
      "[<class 'int'>, <class 'str'>, <class 'float'>]\n"
     ]
    }
   ],
   "source": [
    "#3 Write a code that appends the type of elements from a given list.\n",
    "x = [23,\"Python\", 23.98]\n",
    "type_list = []\n",
    "for i in x:\n",
    "    type_list.append(type(i))\n",
    "print(x)\n",
    "print(type_list)\n",
    "\n",
    "\n",
    "    "
   ]
  },
  {
   "cell_type": "code",
   "execution_count": 57,
   "id": "2371e955",
   "metadata": {},
   "outputs": [
    {
     "name": "stdout",
     "output_type": "stream",
     "text": [
      "[1, 2, 3, 4, 5]\n"
     ]
    }
   ],
   "source": [
    "#4 Write a function that takes a list and returns a new list with unique items of the first list.\n",
    "#Sample List: [1,2,3,3,3,3,4,5]\n",
    "#Unique List: [1, 2, 3, 4, 5]\n",
    "sample_list = [1,2,3,3,3,3,4,5]\n",
    "unique_list = []\n",
    "for i in sample_list:\n",
    "    if i not in unique_list:\n",
    "        unique_list.append(i)\n",
    "print(unique_list)\n",
    "\n"
   ]
  },
  {
   "cell_type": "code",
   "execution_count": 60,
   "id": "f1c90f47",
   "metadata": {},
   "outputs": [
    {
     "name": "stdout",
     "output_type": "stream",
     "text": [
      "No. of Upper-case characters:3\n",
      "No. of Lower-case Characters:12\n"
     ]
    }
   ],
   "source": [
    "#5 Write a function that accepts a string and calculate the number of upper-case letters and lower-case\n",
    "#letters. \n",
    "#Input String: 'The quick Brow Fox'\n",
    "#Expected Output:\n",
    "#No. of Upper-case characters: 3\n",
    "#No. of Lower-case Characters: 12\n",
    "input_String = 'The quick Brow Fox'\n",
    "input_String =  input_String.replace(\" \",\"\")\n",
    "upper_case = []\n",
    "lower_case = []\n",
    "for i in input_String:\n",
    "    if i.islower():\n",
    "        lower_case.append(i)\n",
    "    else:\n",
    "        upper_case.append(i)\n",
    "print(\"No. of Upper-case characters:\" + str(len(upper_case)))\n",
    "print(\"No. of Lower-case Characters:\"+ str(len(lower_case)))\n",
    "    \n",
    "            \n",
    "\n"
   ]
  },
  {
   "cell_type": "code",
   "execution_count": null,
   "id": "12ced30a",
   "metadata": {},
   "outputs": [],
   "source": []
  }
 ],
 "metadata": {
  "kernelspec": {
   "display_name": "Python 3 (ipykernel)",
   "language": "python",
   "name": "python3"
  },
  "language_info": {
   "codemirror_mode": {
    "name": "ipython",
    "version": 3
   },
   "file_extension": ".py",
   "mimetype": "text/x-python",
   "name": "python",
   "nbconvert_exporter": "python",
   "pygments_lexer": "ipython3",
   "version": "3.9.13"
  }
 },
 "nbformat": 4,
 "nbformat_minor": 5
}

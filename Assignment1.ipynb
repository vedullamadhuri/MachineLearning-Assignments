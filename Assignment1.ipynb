{
 "cells": [
  {
   "cell_type": "code",
   "execution_count": 5,
   "id": "dfca9e08",
   "metadata": {},
   "outputs": [
    {
     "name": "stdout",
     "output_type": "stream",
     "text": [
      "[19, 19, 20, 22, 24, 24, 24, 25, 25, 26]\n"
     ]
    }
   ],
   "source": [
    "#question1\n",
    "ages = [19,22,19,24,20,25,26,24,25,24]\n",
    "ages.sort() #sorting the list \n",
    "print(ages)"
   ]
  },
  {
   "cell_type": "code",
   "execution_count": 6,
   "id": "fef22b14",
   "metadata": {},
   "outputs": [
    {
     "name": "stdout",
     "output_type": "stream",
     "text": [
      "[19, 19, 20, 22, 24, 24, 24, 25, 25, 26, 26]\n"
     ]
    }
   ],
   "source": [
    "ages.insert(19,26) # adding min and max numbers to the list\n",
    "print(ages)"
   ]
  },
  {
   "cell_type": "code",
   "execution_count": 7,
   "id": "af9bbc94",
   "metadata": {},
   "outputs": [
    {
     "name": "stdout",
     "output_type": "stream",
     "text": [
      "Median is : 24\n"
     ]
    }
   ],
   "source": [
    "#Median of numbers\n",
    "length  = len(ages)\n",
    "middle= length //2\n",
    "\n",
    "if length % 2 == 0:\n",
    "  median = (ages[middle -1] + ages[middle]) / 2\n",
    "else :\n",
    "  median = ages[middle]\n",
    "\n",
    "  print(\"Median is :\",median)\n"
   ]
  },
  {
   "cell_type": "code",
   "execution_count": 9,
   "id": "ed1945b2",
   "metadata": {},
   "outputs": [
    {
     "name": "stdout",
     "output_type": "stream",
     "text": [
      "22.8\n"
     ]
    }
   ],
   "source": [
    "#Average of the ages\n",
    "ages = [19,22,19,24,20,25,26,24,25,24]\n",
    "length = len(ages) #length of ages\n",
    "sum_ages = sum(ages)#sum of the ages\n",
    "average = sum_ages/len(ages)\n",
    "print(average)"
   ]
  },
  {
   "cell_type": "code",
   "execution_count": 10,
   "id": "0a425fd5",
   "metadata": {},
   "outputs": [
    {
     "name": "stdout",
     "output_type": "stream",
     "text": [
      "[19, 19, 20, 22, 24, 24, 24, 25, 25, 26]\n",
      "7\n"
     ]
    }
   ],
   "source": [
    "# range of the ages\n",
    "ages = [19,22,19,24,20,25,26,24,25,24]\n",
    "ages.sort()\n",
    "print(ages)\n",
    "minimum = ages[0]\n",
    "maximum = ages[9]\n",
    "age_range = maximum - minimum\n",
    "print(age_range)\n"
   ]
  },
  {
   "cell_type": "code",
   "execution_count": 12,
   "id": "af0e6ed6",
   "metadata": {},
   "outputs": [
    {
     "name": "stdout",
     "output_type": "stream",
     "text": [
      "{'name': 'leo', 'color': 'light brown', 'breed': ' labrodor', 'legs': 'four', 'age': '2 years'}\n"
     ]
    }
   ],
   "source": [
    "#question2\n",
    "dog = {}\n",
    "dog[\"name\"] = \"leo\"\n",
    "dog[\"color\"] = \"light brown\"\n",
    "dog[\"breed\"] = \" labrodor\"\n",
    "dog[\"legs\"] = \"four\"\n",
    "dog[\"age\"] = \"2 years\"\n",
    "print(dog)  # create an empty dictionary called dog"
   ]
  },
  {
   "cell_type": "code",
   "execution_count": 1,
   "id": "3e2d0e1d",
   "metadata": {},
   "outputs": [
    {
     "name": "stdout",
     "output_type": "stream",
     "text": [
      "{'first_name': 'hannah', 'last_name': 'washington', ' gender': 'female', 'age': '16 years', 'marital_status': 'single', 'skills': ['programmer', 'soccer_player'], 'country': 'usa', 'city': 'lees summit', 'address': 'summit groove apts'}\n",
      "9\n",
      "['programmer', 'soccer_player']\n",
      "<class 'list'>\n",
      "dict_keys(['first_name', 'last_name', ' gender', 'age', 'marital_status', 'skills', 'country', 'city', 'address'])\n",
      "dict_values(['hannah', 'washington', 'female', '16 years', 'single', ['tennis player', 'programmer', 'soccer_player'], 'usa', 'lees summit', 'summit groove apts'])\n"
     ]
    }
   ],
   "source": [
    "student= {\"first_name\":\"hannah\", \"last_name\" : \"washington\",\" gender\": \"female\", \"age\" :\"16 years\", \n",
    "\"marital_status\":\"single\", \"skills\":[\"programmer\", \"soccer_player\"],\"country\": \"usa\"\n",
    ",\"city\":\"lees summit\", \"address\": \"summit groove apts\"}\n",
    "print(student)\n",
    "print(len(student)) #Get the length of the student dictionary\n",
    "print(student.get(\"skills\"))  #Get the value of skills and check the data type, it should be a list\n",
    "type(student.get(\"skills\"))\n",
    "student[\"skills\"].insert(0,\"tennis player\") #Modify the skills values by adding one or two skills\n",
    "print(type(student.get(\"skills\"))) #Datatype of skills\n",
    "keys_of_student = student.keys()  #Get the dictionary keys as a list\n",
    "print(keys_of_student)\n",
    "values_of_student= student.values()  #Get the dictionary values as a list\n",
    "print(values_of_student)\n"
   ]
  },
  {
   "cell_type": "code",
   "execution_count": 15,
   "id": "b4f4cf54",
   "metadata": {},
   "outputs": [
    {
     "name": "stdout",
     "output_type": "stream",
     "text": [
      "['chinnu', 'sammu', 'leo', 'kittu', 'prasad']\n"
     ]
    }
   ],
   "source": [
    "#question3\n",
    "#Create a tuple containing names of your sisters and your brothers\n",
    "tuple1 = ['chinnu','sammu']\n",
    "tuple2 = ['leo','kittu','prasad']\n",
    "siblings1 = tuple1+ tuple2 #Join brothers and sisters tuples and assign it to siblings\n",
    "print(siblings1)"
   ]
  },
  {
   "cell_type": "code",
   "execution_count": 25,
   "id": "38893756",
   "metadata": {},
   "outputs": [
    {
     "name": "stdout",
     "output_type": "stream",
     "text": [
      "['varalakshmi']\n",
      "['srinivas']\n",
      "['varalakshmi', 'srinivas', 'chinnu', 'sammu', 'leo', 'kittu', 'prasad']\n"
     ]
    }
   ],
   "source": [
    "#update sibling names to father and mother \n",
    "tuple1[0 :]= ['varalakshmi']\n",
    "print(tuple1)\n",
    "tuple2[0 :] = ['srinivas']\n",
    "print(tuple2)\n",
    "siblings = tuple1 + tuple2\n",
    " #update the name siblings to family members\n",
    "family_member = siblings+siblings1\n",
    "print(family_member)\n"
   ]
  },
  {
   "cell_type": "code",
   "execution_count": 26,
   "id": "2a4aae73",
   "metadata": {
    "scrolled": true
   },
   "outputs": [
    {
     "name": "stdout",
     "output_type": "stream",
     "text": [
      "length of it companies is 7\n",
      "{'Twitter', 'IBM', 'Amazon', 'Oracle', 'Google', 'Apple', 'Microsoft', 'Facebook'}\n"
     ]
    }
   ],
   "source": [
    "#question4\n",
    "it_companies = {'Facebook', 'Google', 'Microsoft', 'Apple', 'IBM', 'Oracle', 'Amazon'} \n",
    "A = {19, 22, 24, 20, 25, 26}\n",
    "B = {19, 22, 20, 25, 26, 24, 28, 27}\n",
    "age = [22, 19, 24, 25, 26, 24, 25, 24]\n",
    "len(it_companies)\n",
    "print(\"length of it companies is\",len(it_companies)) #length of it companies\n",
    "it_companies.add('Twitter') #add twitter to it_companies\n",
    "print(it_companies)"
   ]
  },
  {
   "cell_type": "code",
   "execution_count": 32,
   "id": "d4a85e11",
   "metadata": {},
   "outputs": [
    {
     "name": "stdout",
     "output_type": "stream",
     "text": [
      "it_companies {'Amazon', 'Microsoft', 'TCS', 'Twitter', 'Google', 'Apple', 'Facebook', 'IBM', 'Wipro', 'Oracle'}\n",
      "{'Amazon', 'Microsoft', 'TCS', 'Twitter', 'Google', 'Apple', 'Facebook', 'Wipro', 'Oracle'}\n"
     ]
    }
   ],
   "source": [
    "#insert multiple companies to it_companies\n",
    "x= ('TCS', 'Wipro')\n",
    "it_companies.update(x)\n",
    "\n",
    "print(\"it_companies\",it_companies)\n",
    "#remove one of the it_companies from the set\n",
    "it_companies.remove('IBM')\n",
    "print(it_companies)"
   ]
  },
  {
   "cell_type": "code",
   "execution_count": 33,
   "id": "a6a86a23",
   "metadata": {},
   "outputs": [
    {
     "name": "stdout",
     "output_type": "stream",
     "text": [
      "{'Amazon', 'Microsoft', 'TCS', 'Twitter', 'Apple', 'Facebook', 'Wipro', 'Oracle'}\n",
      "union of A and B {19, 20, 22, 24, 25, 26, 27, 28}\n",
      "intersection of Aand B {19, 20, 22, 24, 25, 26}\n"
     ]
    }
   ],
   "source": [
    "#discard one of the it_companies from th set\n",
    "it_companies.discard('Google')\n",
    "print(it_companies)\n",
    "\n",
    "#Difference between discard() and remove()\n",
    "\n",
    "#remove() will raise a method if specified item doesnot exist in a list. \n",
    "#discard()will not raise an error .\n",
    "\n",
    "#join A and B\n",
    "C = A.union(B)\n",
    "print('union of A and B',C)\n",
    "\n",
    "#intersection of Aand B\n",
    "D = A.intersection(B)\n",
    "print('intersection of Aand B',D)"
   ]
  },
  {
   "cell_type": "code",
   "execution_count": 4,
   "id": "b2736ddd",
   "metadata": {},
   "outputs": [
    {
     "name": "stdout",
     "output_type": "stream",
     "text": [
      "join A and B {19, 20, 22, 24, 25, 26, 27, 28}\n",
      "join B with A {19, 20, 22, 24, 25, 26, 27, 28}\n",
      "[22, 19, 24, 25, 26, 24, 25, 24]\n",
      "{19, 22, 24, 25, 26}\n",
      "lengths are not equal\n"
     ]
    }
   ],
   "source": [
    "A = {19, 22, 24, 20, 25, 26}\n",
    "B = {19, 22, 20, 25, 26, 24, 28, 27}\n",
    "age = [22, 19, 24, 25, 26, 24, 25, 24]\n",
    "\n",
    "\n",
    "#? Are both A and B are disjoint Sets\n",
    "# No Because Both A and B has common numbers \n",
    "#join A with B and B with A\n",
    "E = A.union(B)\n",
    "F = B.union(A)\n",
    "print ('join A and B',E)\n",
    "print('join B with A',F)\n",
    "\n",
    "# symmetric diffence between A and B\n",
    "#if we dont have common values  in both the sets(A and B)\n",
    "\n",
    "#deleting A and B \n",
    "del A\n",
    "del B\n",
    "#Convert the ages to a set and compare the length of the list and the set.\n",
    "age_set = set(age)\n",
    "print(age)\n",
    "print(age_set)\n",
    "\n",
    "if len(age)== len(age_set):\n",
    "    print('lengths are equal')\n",
    "else:\n",
    "    print('lengths are not equal')\n"
   ]
  },
  {
   "cell_type": "code",
   "execution_count": 35,
   "id": "b8677f0b",
   "metadata": {},
   "outputs": [
    {
     "name": "stdout",
     "output_type": "stream",
     "text": [
      "2827.4333882308138\n",
      "188.49555921538757\n",
      "radius is : 346.7\n",
      "346.7\n",
      "377622.2329789548\n"
     ]
    }
   ],
   "source": [
    "#question5\n",
    "#Calculate the area of a circle and assign the value to a variable name of _area_of_circle\n",
    "from math import pi\n",
    "radius_of_circle= 30\n",
    "area_of_circle = pi * radius_of_circle *radius_of_circle\n",
    "print(area_of_circle)\n",
    "circum_of_circle= 2 *pi*radius_of_circle #Calculate the circumference of a circle and assign the value to a variable name of_circum_of_circle_\n",
    "\n",
    "print(circum_of_circle)\n",
    "radius_of_circle2 = float(input(\"radius is : \")) #Take radius as user input and calculate the area.\n",
    "print(radius_of_circle2)\n",
    "area_of_circle2= pi* radius_of_circle2*radius_of_circle2\n",
    "print(area_of_circle2)"
   ]
  },
  {
   "cell_type": "code",
   "execution_count": 43,
   "id": "b8c73239",
   "metadata": {},
   "outputs": [
    {
     "name": "stdout",
     "output_type": "stream",
     "text": [
      "['I', 'am', 'a', 'teacher', 'and', 'I', 'love', 'to', 'inspire', 'and', 'teach', 'people']\n",
      "{'teacher', 'teach', 'a', 'I', 'am', 'inspire', 'and', 'love', 'people', 'to'}\n"
     ]
    }
   ],
   "source": [
    "#question6\n",
    "#How many unique words have been used in the sentence? Use the split methods and set \n",
    "#to get the unique words.\n",
    "\n",
    "sentence= \"I am a teacher and I love to inspire and teach people\"\n",
    "x= sentence.split()\n",
    "print(x)\n",
    "y=set(x)\n",
    "print(y)"
   ]
  },
  {
   "cell_type": "code",
   "execution_count": 36,
   "id": "6f1a348d",
   "metadata": {},
   "outputs": [
    {
     "name": "stdout",
     "output_type": "stream",
     "text": [
      "Name\tAge\tCountryCity\n",
      "Asabeneh\t250\tFinlandHelsinki\n"
     ]
    }
   ],
   "source": [
    "#question7\n",
    "#Use a tab escape sequence to get the following lines.\n",
    "#Name Age Country City \n",
    "#Asabeneh 250 Finland Helsinki\n",
    "\n",
    "print('Name'+ \"\\t\" 'Age'+ \"\\t\" 'Country' 'City' )\n",
    "print('Asabeneh'+\"\\t\" '250'+\"\\t\" 'Finland' 'Helsinki')"
   ]
  },
  {
   "cell_type": "code",
   "execution_count": 39,
   "id": "dc83f69f",
   "metadata": {
    "scrolled": true
   },
   "outputs": [
    {
     "name": "stdout",
     "output_type": "stream",
     "text": [
      "radius: 10\n",
      " area:3.14 * radius ** 2\n",
      " “The area of a circle with radius 10 is 314 meters square.”\n"
     ]
    }
   ],
   "source": [
    "#question8\n",
    "#Use the string formatting method to display the following:\n",
    "#radius = 10\n",
    "#area = 3.14 * radius ** 2\n",
    "#“The area of a circle with radius 10 is 314 meters square.”\n",
    "print('radius: 10'+\"\\n\",'area:3.14 * radius ** 2'+\"\\n\",\n",
    "format('“The area of a circle with radius 10 is 314 meters square.”'))\n"
   ]
  },
  {
   "cell_type": "code",
   "execution_count": 45,
   "id": "78893a34",
   "metadata": {},
   "outputs": [
    {
     "name": "stdout",
     "output_type": "stream",
     "text": [
      "enter number_of_students2\n",
      "150\n",
      "155\n",
      "[150.0, 155.0]\n",
      "[68.03, 70.29]\n"
     ]
    }
   ],
   "source": [
    "#question9\n",
    "N=int(input(\"enter number_of_students\"))\n",
    "Weights_Of_students = []\n",
    "for i in range(N):\n",
    "    Weights_Of_students.append(float(input())) # append is used to insert the weights of students through input in list.\n",
    "print(Weights_Of_students) \n",
    "weights_in_kilograms = []\n",
    "for i in Weights_Of_students:\n",
    "    weights_in_kilograms.append(round(i/2.205,2))# round of (input ,2)which means it rounds the floating values upto 2 digits \n",
    "print(weights_in_kilograms)"
   ]
  },
  {
   "cell_type": "code",
   "execution_count": null,
   "id": "3ea213d3",
   "metadata": {},
   "outputs": [],
   "source": [
    "\n"
   ]
  }
 ],
 "metadata": {
  "kernelspec": {
   "display_name": "Python 3 (ipykernel)",
   "language": "python",
   "name": "python3"
  },
  "language_info": {
   "codemirror_mode": {
    "name": "ipython",
    "version": 3
   },
   "file_extension": ".py",
   "mimetype": "text/x-python",
   "name": "python",
   "nbconvert_exporter": "python",
   "pygments_lexer": "ipython3",
   "version": "3.9.13"
  },
  "vscode": {
   "interpreter": {
    "hash": "de2ac4662917e84fce04511077af5209c50ddf56ea3f486d39b4d6106546db66"
   }
  }
 },
 "nbformat": 4,
 "nbformat_minor": 5
}
